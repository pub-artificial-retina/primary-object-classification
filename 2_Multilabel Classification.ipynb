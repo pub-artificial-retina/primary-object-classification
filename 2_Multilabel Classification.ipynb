{
 "cells": [
  {
   "cell_type": "markdown",
   "id": "f9759447",
   "metadata": {},
   "source": [
    "# **Libraries**"
   ]
  },
  {
   "cell_type": "code",
   "execution_count": 1,
   "id": "69db9e2a",
   "metadata": {},
   "outputs": [],
   "source": [
    "# import os\n",
    "# import shutil\n",
    "# import numpy as np\n",
    "# import requests\n",
    "# import math\n",
    "# import random\n",
    "# import datetime\n",
    "# import pytz\n",
    "\n",
    "# import xml.etree.ElementTree as ET\n",
    "\n",
    "# from IPython.display import clear_output\n",
    "\n",
    "# import torch\n",
    "# import torchvision\n",
    "# from torchvision import transforms as T\n",
    "\n",
    "# from PIL import Image, ImageDraw\n",
    "# import cv2"
   ]
  },
  {
   "cell_type": "code",
   "execution_count": 2,
   "id": "fc7e669d",
   "metadata": {},
   "outputs": [],
   "source": [
    "from datetime import datetime"
   ]
  },
  {
   "cell_type": "code",
   "execution_count": 3,
   "id": "5c85a33b",
   "metadata": {},
   "outputs": [],
   "source": [
    "import os\n",
    "import random\n",
    "import pandas as pd\n",
    "import numpy as np"
   ]
  },
  {
   "cell_type": "code",
   "execution_count": 4,
   "id": "8ea96df3",
   "metadata": {},
   "outputs": [],
   "source": [
    "import matplotlib.pyplot as plt"
   ]
  },
  {
   "cell_type": "code",
   "execution_count": 5,
   "id": "20efad6f",
   "metadata": {},
   "outputs": [],
   "source": [
    "import torch\n",
    "from torch.utils.data import Dataset"
   ]
  },
  {
   "cell_type": "code",
   "execution_count": 6,
   "id": "511139fd",
   "metadata": {},
   "outputs": [],
   "source": [
    "import torchvision\n",
    "import torchvision.transforms as transforms"
   ]
  },
  {
   "cell_type": "code",
   "execution_count": 7,
   "id": "f302bf77",
   "metadata": {},
   "outputs": [],
   "source": [
    "from skimage import io, transform"
   ]
  },
  {
   "cell_type": "markdown",
   "id": "60d17593",
   "metadata": {},
   "source": [
    "# **From previous**"
   ]
  },
  {
   "cell_type": "markdown",
   "id": "b9e6b589",
   "metadata": {},
   "source": [
    "## **Classes**"
   ]
  },
  {
   "cell_type": "code",
   "execution_count": 8,
   "id": "9cca8e82",
   "metadata": {},
   "outputs": [],
   "source": [
    "coco_names =  [\n",
    "    \"person\" , \"bicycle\" , \"car\" , \"motorcycle\" , \"airplane\" , \n",
    "    \"bus\" , \"train\" , \"truck\" , \"boat\" , \"traffic light\" , # 10 \n",
    "    \"fire hydrant\" , \"street sign\" , \"stop sign\" , \"parking meter\" , \"bench\" , \n",
    "    \"bird\" , \"cat\" , \"dog\" , \"horse\" , \"sheep\" , # 20 \n",
    "    \"cow\" , \"elephant\" , \"bear\" , \"zebra\" , \"giraffe\" , \n",
    "    \"hat\" , \"backpack\" , \"umbrella\" , \"shoe\" , \"eye glasses\" , # 30 \n",
    "    \"handbag\" , \"tie\" , \"suitcase\" , \"frisbee\" , \"skis\" , \n",
    "    \"snowboard\" , \"sports ball\" , \"kite\" , \"baseball bat\" , \"baseball glove\" , # 40 \n",
    "    \"skateboard\" , \"surfboard\" , \"tennis racket\" , \"bottle\" , \"plate\" , \n",
    "    \"wine glass\" , \"cup\" , \"fork\" , \"knife\" , \"spoon\" , # 50 \n",
    "    \"bowl\" , \"banana\" , \"apple\" , \"sandwich\" , \"orange\" , \n",
    "    \"broccoli\" , \"carrot\" , \"hot dog\" , \"pizza\" , \"donut\" , # 60 \n",
    "    \"cake\" , \"chair\" , \"couch\" , \"potted plant\" , \"bed\" , \n",
    "    \"mirror\" , \"dining table\" , \"window\" , \"desk\" , \"toilet\" , # 70 \n",
    "    \"door\" , \"tv\" , \"laptop\" , \"mouse\" , \"remote\" , \n",
    "    \"keyboard\" , \"cell phone\" , \"microwave\" , \"oven\" , \"toaster\" , # 80 \n",
    "    \"sink\" , \"refrigerator\" , \"blender\" , \"book\" , \"clock\" , \n",
    "    \"vase\" , \"scissors\" , \"teddy bear\" , \"hair drier\" , \"toothbrush\" , # 90 \n",
    "    \"hair brush\", # 91 \n",
    "]"
   ]
  },
  {
   "cell_type": "markdown",
   "id": "27040bf6",
   "metadata": {},
   "source": [
    "# **Settings**"
   ]
  },
  {
   "cell_type": "markdown",
   "id": "c3b700d1",
   "metadata": {},
   "source": [
    "## gpu/cpu"
   ]
  },
  {
   "cell_type": "code",
   "execution_count": 9,
   "id": "e1ac4372",
   "metadata": {},
   "outputs": [],
   "source": [
    "device = \"cpu\"\n",
    "gpus = None\n",
    "if_multi_gpu_which_gpu = 0"
   ]
  },
  {
   "cell_type": "code",
   "execution_count": 10,
   "id": "bce3a2d0",
   "metadata": {},
   "outputs": [
    {
     "name": "stdout",
     "output_type": "stream",
     "text": [
      "0. <torch.cuda.device object at 0x7f2ad5e0b280>\n",
      " - name:\t\t\tNVIDIA GeForce RTX 4070 Ti\n",
      " - major/minor:\t\t\t8/9\n",
      " - total_memory:\t\t12878086144 (12.88 GB)\n",
      " - Multi-processor count:\t60\n",
      "\n",
      "*** You are ready to use 'cuda:0' device! ***\n"
     ]
    }
   ],
   "source": [
    "if (torch.cuda.is_available()):\n",
    "    device = \"cuda:0\"\n",
    "    gpus = [torch.cuda.device(i) for i in range(torch.cuda.device_count())]\n",
    "    gpus_props = [torch.cuda.get_device_properties(gpu) for gpu in gpus]\n",
    "    for ind, gpu in enumerate(gpus_props):\n",
    "        print (\"{:}. {:}\".format(ind, gpus[ind]))\n",
    "        print (\" - name:\\t\\t\\t{:}\\n - major/minor:\\t\\t\\t{:}/{:}\".format(\n",
    "            gpu.name, gpu.major, gpu.minor,\n",
    "        ))\n",
    "        print (\" - total_memory:\\t\\t{:} ({:.2f} GB)\\n - Multi-processor count:\\t{:}\\n\".format(\n",
    "            gpu.total_memory, (gpu.total_memory/1000000000), gpu.multi_processor_count,\n",
    "        ))\n",
    "        if (if_multi_gpu_which_gpu == ind):\n",
    "            device = \"cuda:{:}\".format(if_multi_gpu_which_gpu)\n",
    "    print (\"*** You are ready to use '{:}' device! ***\".format(device))"
   ]
  },
  {
   "cell_type": "markdown",
   "id": "388644ce",
   "metadata": {},
   "source": [
    "## input-relevant"
   ]
  },
  {
   "cell_type": "code",
   "execution_count": 11,
   "id": "eaee2211",
   "metadata": {},
   "outputs": [],
   "source": [
    "mapping_csv_index = {\n",
    "    \"images_originals\" : 1,\n",
    "    \"images_objects\"   : 2,\n",
    "    \"images_depths\"    : 3,\n",
    "    \"text_object\"      : 4,\n",
    "}"
   ]
  },
  {
   "cell_type": "markdown",
   "id": "ad2a26d9",
   "metadata": {},
   "source": [
    "### object:"
   ]
  },
  {
   "cell_type": "code",
   "execution_count": 12,
   "id": "8d3949ea",
   "metadata": {},
   "outputs": [
    {
     "name": "stdout",
     "output_type": "stream",
     "text": [
      "The csv-index for 'text_object' is at '4'.\n"
     ]
    }
   ],
   "source": [
    "object_subfolder = \"text_object\"\n",
    "object_index = mapping_csv_index[object_subfolder]\n",
    "\n",
    "print (\"The csv-index for '{:}' is at '{:}'.\".format(\n",
    "    object_subfolder, object_index\n",
    "))"
   ]
  },
  {
   "cell_type": "code",
   "execution_count": 13,
   "id": "435db268",
   "metadata": {},
   "outputs": [
    {
     "name": "stdout",
     "output_type": "stream",
     "text": [
      "As you have selected top '5' objects as training inputs, number of channels (objects) is set to be '5'.\n"
     ]
    }
   ],
   "source": [
    "ochannels = 5\n",
    "\n",
    "print (\"As you have selected top '{:}' objects as training inputs, number of channels (objects) is set to be '{:}'.\".format(\n",
    "    ochannels, ochannels,\n",
    "))"
   ]
  },
  {
   "cell_type": "code",
   "execution_count": 14,
   "id": "cf5f632a",
   "metadata": {},
   "outputs": [],
   "source": [
    "objectspec_input_startindex = 0\n",
    "objectspec_input_endindex   = 10\n",
    "\n",
    "objectspec_output_startindex = objectspec_input_endindex\n",
    "objectspec_output_endindex = 11"
   ]
  },
  {
   "cell_type": "markdown",
   "id": "6c7467c1",
   "metadata": {},
   "source": [
    "### image:"
   ]
  },
  {
   "cell_type": "code",
   "execution_count": 15,
   "id": "38836153",
   "metadata": {},
   "outputs": [],
   "source": [
    "# place the sequence in order\n",
    "image_options = {\n",
    "    \"color\"     : [\"images_originals\", \"images_objects\"],\n",
    "    \"grayscale\" : [\"images_depths\"],\n",
    "}\n",
    "image_types = [option for option in image_options.keys()]"
   ]
  },
  {
   "cell_type": "code",
   "execution_count": 16,
   "id": "58e6763a",
   "metadata": {},
   "outputs": [
    {
     "name": "stdout",
     "output_type": "stream",
     "text": [
      "You selected the following for training:\n",
      " - 'grayscale' images\n",
      " - 'images_depths' folder.\n"
     ]
    }
   ],
   "source": [
    "# configure the image-type and folder here\n",
    "image_type  = image_types[1]\n",
    "image_subfolder = image_options[image_type][0]\n",
    "\n",
    "print (\"You selected the following for training:\\n - '{:}' images\\n - '{:}' folder.\".format(\n",
    "    image_type, image_subfolder,\n",
    "))"
   ]
  },
  {
   "cell_type": "code",
   "execution_count": 17,
   "id": "0072f353",
   "metadata": {},
   "outputs": [
    {
     "name": "stdout",
     "output_type": "stream",
     "text": [
      "The csv-index for 'images_depths' is at '3'.\n"
     ]
    }
   ],
   "source": [
    "image_index = mapping_csv_index[image_subfolder]\n",
    "\n",
    "print (\"The csv-index for '{:}' is at '{:}'.\".format(\n",
    "    image_subfolder, image_index\n",
    "))"
   ]
  },
  {
   "cell_type": "code",
   "execution_count": 18,
   "id": "5d5ed372",
   "metadata": {},
   "outputs": [
    {
     "name": "stdout",
     "output_type": "stream",
     "text": [
      "As 'grayscale' images are selected, number of channels (image) is set to be '1'.\n"
     ]
    }
   ],
   "source": [
    "ichannels = 0\n",
    "\n",
    "if (image_type == image_types[0]): #color\n",
    "    ichannels = 3\n",
    "elif (image_type == image_types[1]): #grayscale\n",
    "    ichannels = 1\n",
    "\n",
    "print (\"As '{:}' images are selected, number of channels (image) is set to be '{:}'.\".format(\n",
    "    image_type, ichannels,\n",
    "))"
   ]
  },
  {
   "cell_type": "markdown",
   "id": "451fa5be",
   "metadata": {},
   "source": [
    "## outputs"
   ]
  },
  {
   "cell_type": "code",
   "execution_count": 19,
   "id": "5add25d0",
   "metadata": {},
   "outputs": [],
   "source": [
    "classes = [\n",
    "    \"primary\",\n",
    "    \"not-primary\",\n",
    "]"
   ]
  },
  {
   "cell_type": "markdown",
   "id": "9b1636b3",
   "metadata": {},
   "source": [
    "## model definition"
   ]
  },
  {
   "cell_type": "code",
   "execution_count": 20,
   "id": "0bd3cb38",
   "metadata": {},
   "outputs": [],
   "source": [
    "iconv1_out_channels = 15\n",
    "iconv2_out_channels = 30\n",
    "iconv3_out_channels = 60\n",
    "\n",
    "oconv1_out_channels = 15\n",
    "oconv2_out_channels = 30\n",
    "oconv3_out_channels = 60"
   ]
  },
  {
   "cell_type": "code",
   "execution_count": 21,
   "id": "c24e0af4",
   "metadata": {},
   "outputs": [],
   "source": [
    "ikernel_size_conv  = (3, 3)\n",
    "istride_conv       = (1, 1)\n",
    "ikernel_size_pool = (2, 2)\n",
    "istride_pool      = (2, 2)\n",
    "\n",
    "okernel_size_conv  = 1\n",
    "ostride_conv       = 1\n",
    "okernel_size_pool = 1\n",
    "ostride_pool      = 1"
   ]
  },
  {
   "cell_type": "markdown",
   "id": "94068aa0",
   "metadata": {},
   "source": [
    "## training"
   ]
  },
  {
   "cell_type": "code",
   "execution_count": 22,
   "id": "2532a614",
   "metadata": {},
   "outputs": [],
   "source": [
    "batch_size = 128\n",
    "epochs = 27"
   ]
  },
  {
   "cell_type": "markdown",
   "id": "e995742c",
   "metadata": {},
   "source": [
    "## output-folders/files"
   ]
  },
  {
   "cell_type": "code",
   "execution_count": 23,
   "id": "6a197d81",
   "metadata": {},
   "outputs": [],
   "source": [
    "model_out_subfolder = \"trained_on_{:}\".format(image_subfolder)"
   ]
  },
  {
   "cell_type": "code",
   "execution_count": 24,
   "id": "e7163aa0",
   "metadata": {},
   "outputs": [
    {
     "name": "stdout",
     "output_type": "stream",
     "text": [
      "After training, current model will be saved/loaded to/from '../models/trained_on_images_depths/' directory.\n"
     ]
    }
   ],
   "source": [
    "model_out_path = \"../models/\" + model_out_subfolder + \"/\"\n",
    "\n",
    "print (\"After training, current model will be saved/loaded to/from '{:}' directory.\".format(\n",
    "    model_out_path,\n",
    "))"
   ]
  },
  {
   "cell_type": "code",
   "execution_count": 25,
   "id": "b828110e",
   "metadata": {},
   "outputs": [],
   "source": [
    "model_out_file_postfix = \"-primenet.pth\""
   ]
  },
  {
   "cell_type": "code",
   "execution_count": 26,
   "id": "20430335",
   "metadata": {},
   "outputs": [],
   "source": [
    "model_out_file_prefix = \"\" # will be populated based on finsih-datetime"
   ]
  },
  {
   "cell_type": "markdown",
   "id": "35227d84",
   "metadata": {},
   "source": [
    "# Functions"
   ]
  },
  {
   "cell_type": "code",
   "execution_count": 27,
   "id": "98eb0826",
   "metadata": {},
   "outputs": [],
   "source": [
    "def plot_objectspecs(image, objectspec_detail):\n",
    "    \"\"\"Show image with object specifications\"\"\"\n",
    "    plt.imshow(image)\n",
    "    # plt.scatter(objectspec_detail[:, 0], objectspec_detail[:, 1], s=10, marker='.', c='r')\n",
    "    plt.pause(0.001)  # pause a bit so that plots are updated"
   ]
  },
  {
   "cell_type": "code",
   "execution_count": 28,
   "id": "590c7861",
   "metadata": {},
   "outputs": [],
   "source": [
    "def show_objectspecs(image, objectspec_detail):\n",
    "    \"\"\"Show object-specs\"\"\"\n",
    "    print (\"{:}\\n\".format(objectspec_detail))"
   ]
  },
  {
   "cell_type": "markdown",
   "id": "c929accd",
   "metadata": {},
   "source": [
    "# Our Custom Dataset Class"
   ]
  },
  {
   "cell_type": "markdown",
   "id": "acff40c6",
   "metadata": {},
   "source": [
    "### **Per record are going to be:**\n",
    "#### - image\n",
    "#### - object specifications (objects, 11) - coordinates, class, area, depth, pred_score, primary"
   ]
  },
  {
   "cell_type": "code",
   "execution_count": 29,
   "id": "5c342068",
   "metadata": {},
   "outputs": [],
   "source": [
    "class ObjectsDataset(Dataset):\n",
    "    \"\"\"Objects dataset.\"\"\"\n",
    "\n",
    "    def __init__(self, csv_file, root_dir, transform=None):\n",
    "        \"\"\"\n",
    "        Arguments:\n",
    "            csv_file (string): Path to the csv file with annotations.\n",
    "            root_dir (string): Directory with all the images.\n",
    "            transform (callable, optional): Optional transform to be applied\n",
    "                on a sample.\n",
    "        \"\"\"\n",
    "        self.main_csv = pd.read_csv(csv_file)\n",
    "        \n",
    "        self.root_dir = root_dir\n",
    "        self.transform = transform\n",
    "\n",
    "    def __len__(self):\n",
    "        return len(self.main_csv)\n",
    "\n",
    "    def __getitem__(self, idx):\n",
    "        if torch.is_tensor(idx):\n",
    "            idx = idx.tolist()\n",
    "\n",
    "        img_path = os.path.join(self.root_dir, self.main_csv.iloc[idx, image_index])\n",
    "        #img_obj_det = os.path.join(self.root_dir, self.main_csv.iloc[idx, 2])\n",
    "        #img_depth = os.path.join(self.root_dir, self.main_csv.iloc[idx, 3])\n",
    "        txt_obj = os.path.join(self.root_dir, self.main_csv.iloc[idx, object_index])\n",
    "\n",
    "        image = io.imread(img_path)\n",
    "#         if (color_images is True):\n",
    "#             image = io.imread(img_org)\n",
    "            \n",
    "#         elif (color_images is False):\n",
    "#             image = io.imread(img_depth)\n",
    "\n",
    "        objectspec = pd.read_csv(txt_obj)\n",
    "\n",
    "        # specifications\n",
    "        objectspec_detail = objectspec.iloc[:,objectspec_input_startindex:objectspec_output_endindex]\n",
    "        objectspec_detail = objectspec_detail.reindex(range(ochannels), fill_value=0)\n",
    "        objectspec_detail = np.array([objectspec_detail])\n",
    "        objectspec_detail = objectspec_detail.astype(\"float\").reshape(-1, objectspec_output_endindex)\n",
    "\n",
    "        sample = {\n",
    "            \"image\"             : image,\n",
    "            \"objectspec_detail\" : objectspec_detail,\n",
    "        }\n",
    "\n",
    "        if self.transform:\n",
    "            sample = self.transform(sample)\n",
    "\n",
    "        return sample"
   ]
  },
  {
   "cell_type": "markdown",
   "id": "43c13ff4",
   "metadata": {},
   "source": [
    "# *Load the Custom Dataset*"
   ]
  },
  {
   "cell_type": "code",
   "execution_count": 30,
   "id": "147c64ef",
   "metadata": {},
   "outputs": [],
   "source": [
    "root_dir = \"\"\n",
    "custom_annotations = \"dataset/custom_annotations.txt\""
   ]
  },
  {
   "cell_type": "code",
   "execution_count": 31,
   "id": "df843a82",
   "metadata": {},
   "outputs": [],
   "source": [
    "object_dataset = ObjectsDataset(\n",
    "    csv_file=custom_annotations,\n",
    "    root_dir=root_dir,\n",
    ")"
   ]
  },
  {
   "cell_type": "code",
   "execution_count": 32,
   "id": "c27462e2",
   "metadata": {},
   "outputs": [
    {
     "data": {
      "text/html": [
       "<div>\n",
       "<style scoped>\n",
       "    .dataframe tbody tr th:only-of-type {\n",
       "        vertical-align: middle;\n",
       "    }\n",
       "\n",
       "    .dataframe tbody tr th {\n",
       "        vertical-align: top;\n",
       "    }\n",
       "\n",
       "    .dataframe thead th {\n",
       "        text-align: right;\n",
       "    }\n",
       "</style>\n",
       "<table border=\"1\" class=\"dataframe\">\n",
       "  <thead>\n",
       "    <tr style=\"text-align: right;\">\n",
       "      <th></th>\n",
       "      <th>image_id</th>\n",
       "      <th>image_original</th>\n",
       "      <th>image_object_detection</th>\n",
       "      <th>image_depth</th>\n",
       "      <th>text_object</th>\n",
       "    </tr>\n",
       "  </thead>\n",
       "  <tbody>\n",
       "    <tr>\n",
       "      <th>0</th>\n",
       "      <td>0</td>\n",
       "      <td>dataset/images_originals/0-0.jpg</td>\n",
       "      <td>dataset/images_objects/0-0.jpg</td>\n",
       "      <td>dataset/images_depths/0-0.jpg</td>\n",
       "      <td>dataset/texts_objects/0-0.txt</td>\n",
       "    </tr>\n",
       "    <tr>\n",
       "      <th>1</th>\n",
       "      <td>1</td>\n",
       "      <td>dataset/images_originals/1-0.jpg</td>\n",
       "      <td>dataset/images_objects/1-0.jpg</td>\n",
       "      <td>dataset/images_depths/1-0.jpg</td>\n",
       "      <td>dataset/texts_objects/1-0.txt</td>\n",
       "    </tr>\n",
       "    <tr>\n",
       "      <th>2</th>\n",
       "      <td>2</td>\n",
       "      <td>dataset/images_originals/2-0.jpg</td>\n",
       "      <td>dataset/images_objects/2-0.jpg</td>\n",
       "      <td>dataset/images_depths/2-0.jpg</td>\n",
       "      <td>dataset/texts_objects/2-0.txt</td>\n",
       "    </tr>\n",
       "    <tr>\n",
       "      <th>3</th>\n",
       "      <td>3</td>\n",
       "      <td>dataset/images_originals/3-0.jpg</td>\n",
       "      <td>dataset/images_objects/3-0.jpg</td>\n",
       "      <td>dataset/images_depths/3-0.jpg</td>\n",
       "      <td>dataset/texts_objects/3-0.txt</td>\n",
       "    </tr>\n",
       "    <tr>\n",
       "      <th>4</th>\n",
       "      <td>4</td>\n",
       "      <td>dataset/images_originals/4-0.jpg</td>\n",
       "      <td>dataset/images_objects/4-0.jpg</td>\n",
       "      <td>dataset/images_depths/4-0.jpg</td>\n",
       "      <td>dataset/texts_objects/4-0.txt</td>\n",
       "    </tr>\n",
       "    <tr>\n",
       "      <th>...</th>\n",
       "      <td>...</td>\n",
       "      <td>...</td>\n",
       "      <td>...</td>\n",
       "      <td>...</td>\n",
       "      <td>...</td>\n",
       "    </tr>\n",
       "    <tr>\n",
       "      <th>983</th>\n",
       "      <td>983</td>\n",
       "      <td>dataset/images_originals/983-0.jpg</td>\n",
       "      <td>dataset/images_objects/983-0.jpg</td>\n",
       "      <td>dataset/images_depths/983-0.jpg</td>\n",
       "      <td>dataset/texts_objects/983-0.txt</td>\n",
       "    </tr>\n",
       "    <tr>\n",
       "      <th>984</th>\n",
       "      <td>984</td>\n",
       "      <td>dataset/images_originals/984-0.jpg</td>\n",
       "      <td>dataset/images_objects/984-0.jpg</td>\n",
       "      <td>dataset/images_depths/984-0.jpg</td>\n",
       "      <td>dataset/texts_objects/984-0.txt</td>\n",
       "    </tr>\n",
       "    <tr>\n",
       "      <th>985</th>\n",
       "      <td>985</td>\n",
       "      <td>dataset/images_originals/985-0.jpg</td>\n",
       "      <td>dataset/images_objects/985-0.jpg</td>\n",
       "      <td>dataset/images_depths/985-0.jpg</td>\n",
       "      <td>dataset/texts_objects/985-0.txt</td>\n",
       "    </tr>\n",
       "    <tr>\n",
       "      <th>986</th>\n",
       "      <td>986</td>\n",
       "      <td>dataset/images_originals/986-0.jpg</td>\n",
       "      <td>dataset/images_objects/986-0.jpg</td>\n",
       "      <td>dataset/images_depths/986-0.jpg</td>\n",
       "      <td>dataset/texts_objects/986-0.txt</td>\n",
       "    </tr>\n",
       "    <tr>\n",
       "      <th>987</th>\n",
       "      <td>987</td>\n",
       "      <td>dataset/images_originals/987-0.jpg</td>\n",
       "      <td>dataset/images_objects/987-0.jpg</td>\n",
       "      <td>dataset/images_depths/987-0.jpg</td>\n",
       "      <td>dataset/texts_objects/987-0.txt</td>\n",
       "    </tr>\n",
       "  </tbody>\n",
       "</table>\n",
       "<p>988 rows × 5 columns</p>\n",
       "</div>"
      ],
      "text/plain": [
       "     image_id                      image_original  \\\n",
       "0           0    dataset/images_originals/0-0.jpg   \n",
       "1           1    dataset/images_originals/1-0.jpg   \n",
       "2           2    dataset/images_originals/2-0.jpg   \n",
       "3           3    dataset/images_originals/3-0.jpg   \n",
       "4           4    dataset/images_originals/4-0.jpg   \n",
       "..        ...                                 ...   \n",
       "983       983  dataset/images_originals/983-0.jpg   \n",
       "984       984  dataset/images_originals/984-0.jpg   \n",
       "985       985  dataset/images_originals/985-0.jpg   \n",
       "986       986  dataset/images_originals/986-0.jpg   \n",
       "987       987  dataset/images_originals/987-0.jpg   \n",
       "\n",
       "               image_object_detection                      image_depth  \\\n",
       "0      dataset/images_objects/0-0.jpg    dataset/images_depths/0-0.jpg   \n",
       "1      dataset/images_objects/1-0.jpg    dataset/images_depths/1-0.jpg   \n",
       "2      dataset/images_objects/2-0.jpg    dataset/images_depths/2-0.jpg   \n",
       "3      dataset/images_objects/3-0.jpg    dataset/images_depths/3-0.jpg   \n",
       "4      dataset/images_objects/4-0.jpg    dataset/images_depths/4-0.jpg   \n",
       "..                                ...                              ...   \n",
       "983  dataset/images_objects/983-0.jpg  dataset/images_depths/983-0.jpg   \n",
       "984  dataset/images_objects/984-0.jpg  dataset/images_depths/984-0.jpg   \n",
       "985  dataset/images_objects/985-0.jpg  dataset/images_depths/985-0.jpg   \n",
       "986  dataset/images_objects/986-0.jpg  dataset/images_depths/986-0.jpg   \n",
       "987  dataset/images_objects/987-0.jpg  dataset/images_depths/987-0.jpg   \n",
       "\n",
       "                         text_object  \n",
       "0      dataset/texts_objects/0-0.txt  \n",
       "1      dataset/texts_objects/1-0.txt  \n",
       "2      dataset/texts_objects/2-0.txt  \n",
       "3      dataset/texts_objects/3-0.txt  \n",
       "4      dataset/texts_objects/4-0.txt  \n",
       "..                               ...  \n",
       "983  dataset/texts_objects/983-0.txt  \n",
       "984  dataset/texts_objects/984-0.txt  \n",
       "985  dataset/texts_objects/985-0.txt  \n",
       "986  dataset/texts_objects/986-0.txt  \n",
       "987  dataset/texts_objects/987-0.txt  \n",
       "\n",
       "[988 rows x 5 columns]"
      ]
     },
     "execution_count": 32,
     "metadata": {},
     "output_type": "execute_result"
    }
   ],
   "source": [
    "object_dataset.main_csv"
   ]
  },
  {
   "cell_type": "code",
   "execution_count": 33,
   "id": "d54cc931",
   "metadata": {},
   "outputs": [
    {
     "name": "stdout",
     "output_type": "stream",
     "text": [
      "The shapes for image and objectspec_detail are:\n",
      " - image: (480, 640)\n",
      " - objectspec_detail: (5, 11)\n"
     ]
    }
   ],
   "source": [
    "print (\"The shapes for image and objectspec_detail are:\\n - image: {:}\\n - objectspec_detail: {:}\".format(\n",
    "    object_dataset[0][\"image\"].shape,\n",
    "    object_dataset[0][\"objectspec_detail\"].shape,\n",
    "))"
   ]
  },
  {
   "cell_type": "markdown",
   "id": "39acbf3f",
   "metadata": {},
   "source": [
    "# **Iterate the Custom Dataset**"
   ]
  },
  {
   "cell_type": "code",
   "execution_count": 34,
   "id": "80acca77",
   "metadata": {},
   "outputs": [],
   "source": [
    "show_objects_with_object_specs = not True\n",
    "\n",
    "total_records  = len(object_dataset)\n",
    "show_n_records = 4\n",
    "if (show_n_records > 0):\n",
    "    show_n_records = show_n_records if (show_n_records <= total_records-1) else total_records-1\n",
    "else:\n",
    "    show_n_records = 1\n",
    "\n",
    "# print (\"'{:}' record(s) will be shown\".format(\n",
    "#     show_n_records\n",
    "# )) if (show_n_records > -1) else print(\"'{:}' records can't be shown\".format(\n",
    "#     show_n_records\n",
    "# ))"
   ]
  },
  {
   "cell_type": "code",
   "execution_count": 35,
   "id": "f6f59c49",
   "metadata": {
    "scrolled": true
   },
   "outputs": [
    {
     "name": "stdout",
     "output_type": "stream",
     "text": [
      "**************************************************************************\n",
      "Image # 0\n",
      " - image:\t(480, 640)\n",
      " - obj-detail:\t(5, 11)\n",
      "**************************************************************************\n",
      "Image # 1\n",
      " - image:\t(427, 640)\n",
      " - obj-detail:\t(5, 11)\n",
      "**************************************************************************\n",
      "Image # 2\n",
      " - image:\t(640, 490)\n",
      " - obj-detail:\t(5, 11)\n",
      "**************************************************************************\n",
      "Image # 3\n",
      " - image:\t(417, 500)\n",
      " - obj-detail:\t(5, 11)\n"
     ]
    }
   ],
   "source": [
    "# figsize = (show_n_records*6, show_n_records*5)\n",
    "\n",
    "for i, sample in enumerate(object_dataset):\n",
    "    print (\"{:}\\nImage # {:}\".format(\n",
    "        \"**************************************************************************\",\n",
    "        i\n",
    "    ))\n",
    "    print (\" - image:\\t{:}\".format(sample[\"image\"].shape))\n",
    "    print (\" - obj-detail:\\t{:}\".format(sample[\"objectspec_detail\"].shape))\n",
    "    if (show_objects_with_object_specs):\n",
    "        show_objectspecs(**sample)\n",
    "\n",
    "    if (i == (show_n_records-1)):\n",
    "        break"
   ]
  },
  {
   "cell_type": "markdown",
   "id": "c605d387",
   "metadata": {},
   "source": [
    "# **Preprocess the Dataset**"
   ]
  },
  {
   "cell_type": "markdown",
   "id": "30ed8b31",
   "metadata": {},
   "source": [
    "## Classes for Preprocessing"
   ]
  },
  {
   "cell_type": "markdown",
   "id": "4aba236a",
   "metadata": {},
   "source": [
    "# ************************************************\n",
    "# IMPROVE THIS PART:\n",
    "## - Scale before labeling in 1_SSD* notebook\n",
    "## - Crop the images only if required\n",
    "## - Update the ToTensor fucntion of this section\n",
    "# ************************************************"
   ]
  },
  {
   "cell_type": "markdown",
   "id": "9aa0b37b",
   "metadata": {},
   "source": [
    "### **1. Rescale**"
   ]
  },
  {
   "cell_type": "code",
   "execution_count": 36,
   "id": "93a533b0",
   "metadata": {},
   "outputs": [],
   "source": [
    "class Rescale(object):\n",
    "    \"\"\"Rescale the image in a sample to a given size.\n",
    "\n",
    "    Args:\n",
    "        output_size (tuple or int): Desired output size. If tuple, output is\n",
    "            matched to output_size. If int, smaller of image edges is matched\n",
    "            to output_size keeping aspect ratio the same.\n",
    "    \"\"\"\n",
    "\n",
    "    def __init__(self, output_size):\n",
    "        assert isinstance(output_size, (int, tuple))\n",
    "        self.output_size = output_size\n",
    "\n",
    "    def __call__(self, sample):\n",
    "        image             = sample[\"image\"]\n",
    "        objectspec_detail = sample[\"objectspec_detail\"]\n",
    "\n",
    "        h, w = image.shape[:2]\n",
    "        if isinstance(self.output_size, int):\n",
    "            if h > w:\n",
    "                new_h, new_w = self.output_size * h / w, self.output_size\n",
    "            else:\n",
    "                new_h, new_w = self.output_size, self.output_size * w / h\n",
    "        else:\n",
    "            new_h, new_w = self.output_size\n",
    "\n",
    "        new_h, new_w = int(new_h), int(new_w)\n",
    "\n",
    "        img = transform.resize(image, (new_h, new_w))\n",
    "\n",
    "        return {\n",
    "            \"image\"             : img,\n",
    "            \"objectspec_detail\" : objectspec_detail,\n",
    "        }"
   ]
  },
  {
   "cell_type": "markdown",
   "id": "d926b061",
   "metadata": {},
   "source": [
    "### **2. RandomCrop**"
   ]
  },
  {
   "cell_type": "code",
   "execution_count": 37,
   "id": "2fa619f7",
   "metadata": {},
   "outputs": [],
   "source": [
    "class RandomCrop(object):\n",
    "    \"\"\"Crop randomly the image in a sample.\n",
    "\n",
    "    Args:\n",
    "        output_size (tuple or int): Desired output size. If int, square crop\n",
    "            is made.\n",
    "    \"\"\"\n",
    "\n",
    "    def __init__(self, output_size):\n",
    "        assert isinstance(output_size, (int, tuple))\n",
    "        if isinstance(output_size, int):\n",
    "            self.output_size = (output_size, output_size)\n",
    "        else:\n",
    "            assert len(output_size) == 2\n",
    "            self.output_size = output_size\n",
    "\n",
    "    def __call__(self, sample):\n",
    "        image             = sample[\"image\"]\n",
    "        objectspec_detail = sample[\"objectspec_detail\"]\n",
    "\n",
    "        h, w = image.shape[:2]\n",
    "        new_h, new_w = self.output_size\n",
    "\n",
    "        top = np.random.randint(0, h - new_h + 1)\n",
    "        left = np.random.randint(0, w - new_w + 1)\n",
    "\n",
    "        image = image[top: top + new_h,\n",
    "                      left: left + new_w]\n",
    "\n",
    "        return {\n",
    "            \"image\"             : image,\n",
    "            \"objectspec_detail\" : objectspec_detail,\n",
    "        }"
   ]
  },
  {
   "cell_type": "markdown",
   "id": "2a71a055",
   "metadata": {},
   "source": [
    "### **3. ToTensor**"
   ]
  },
  {
   "cell_type": "code",
   "execution_count": 38,
   "id": "46481e43",
   "metadata": {},
   "outputs": [],
   "source": [
    "class ToTensor(object):\n",
    "    \"\"\"Convert ndarrays in sample to Tensors.\"\"\"\n",
    "\n",
    "    def __call__(self, sample):\n",
    "        image             = sample[\"image\"]\n",
    "        objectspec_detail = sample[\"objectspec_detail\"]\n",
    "\n",
    "        if (ichannels == 3):\n",
    "            # swap color axis because\n",
    "            # numpy image: H x W x C\n",
    "            # torch image: C x H x W\n",
    "            image = image.transpose((2, 0, 1))\n",
    "        elif (ichannels == 1):\n",
    "            # need to add an extra dimension for grayscale images\n",
    "            image = np.expand_dims(image, axis=0) #equivalent in pytorch: torch.unsqueeze(image, dim=0)\n",
    "            pass\n",
    "        return {\n",
    "            \"image\"             : torch.from_numpy(image),\n",
    "            \"objectspec_detail\" : torch.from_numpy(objectspec_detail),\n",
    "        }"
   ]
  },
  {
   "cell_type": "markdown",
   "id": "49f5bd83",
   "metadata": {},
   "source": [
    "## **Compose Transforms**"
   ]
  },
  {
   "cell_type": "code",
   "execution_count": 39,
   "id": "db96f59a",
   "metadata": {},
   "outputs": [],
   "source": [
    "scale_val = 256\n",
    "crop_val1 = 128\n",
    "crop_val2 = 256"
   ]
  },
  {
   "cell_type": "code",
   "execution_count": 40,
   "id": "dfefdd0b",
   "metadata": {},
   "outputs": [
    {
     "name": "stdout",
     "output_type": "stream",
     "text": [
      "<__main__.Rescale object at 0x7f2ad5e45a20>\n",
      "<__main__.RandomCrop object at 0x7f2ad5e45db0>\n",
      "\n",
      "Compose(\n",
      "    <__main__.Rescale object at 0x7f2ad5e44760>\n",
      "    <__main__.RandomCrop object at 0x7f2ad5b59b10>\n",
      ")\n"
     ]
    }
   ],
   "source": [
    "scale = Rescale(scale_val)\n",
    "crop = RandomCrop(crop_val1)\n",
    "composed = transforms.Compose([\n",
    "    Rescale(scale_val),\n",
    "    RandomCrop(crop_val2),\n",
    "])\n",
    "print (\"{:}\\n{:}\\n\\n{:}\".format(\n",
    "    scale,\n",
    "    crop,\n",
    "    composed,\n",
    "))"
   ]
  },
  {
   "cell_type": "code",
   "execution_count": 41,
   "id": "769ff7dc",
   "metadata": {},
   "outputs": [
    {
     "data": {
      "text/plain": [
       "<Figure size 640x480 with 0 Axes>"
      ]
     },
     "metadata": {},
     "output_type": "display_data"
    }
   ],
   "source": [
    "sample_num = 3\n",
    "fig = plt.figure()\n",
    "sample = object_dataset[sample_num]"
   ]
  },
  {
   "cell_type": "code",
   "execution_count": 42,
   "id": "85285b8e",
   "metadata": {},
   "outputs": [
    {
     "name": "stdout",
     "output_type": "stream",
     "text": [
      "<class '__main__.Rescale'>\n",
      "(256, 306)\n"
     ]
    },
    {
     "data": {
      "image/png": "[encoded data removed]",
      "text/plain": [
       "<Figure size 640x480 with 1 Axes>"
      ]
     },
     "metadata": {},
     "output_type": "display_data"
    },
    {
     "name": "stdout",
     "output_type": "stream",
     "text": [
      "<class '__main__.RandomCrop'>\n",
      "(128, 128)\n"
     ]
    },
    {
     "data": {
      "image/png": "[encoded data removed]",
      "text/plain": [
       "<Figure size 640x480 with 1 Axes>"
      ]
     },
     "metadata": {},
     "output_type": "display_data"
    },
    {
     "name": "stdout",
     "output_type": "stream",
     "text": [
      "<class 'torchvision.transforms.transforms.Compose'>\n",
      "(256, 256)\n"
     ]
    },
    {
     "data": {
      "image/png": "[encoded data removed]",
      "text/plain": [
       "<Figure size 640x480 with 1 Axes>"
      ]
     },
     "metadata": {},
     "output_type": "display_data"
    }
   ],
   "source": [
    "for i, tsfrm in enumerate([scale, crop, composed]):\n",
    "    print (type(tsfrm))\n",
    "    transformed_sample = tsfrm(sample)\n",
    "    print (transformed_sample[\"image\"].shape)\n",
    "    \n",
    "    ax = plt.subplot(1, 3, i+1)\n",
    "    # ax.axis(\"off\")\n",
    "    plt.tight_layout()\n",
    "    ax.set_title(type(tsfrm).__name__)\n",
    "    plot_objectspecs(**transformed_sample)"
   ]
  },
  {
   "cell_type": "code",
   "execution_count": 43,
   "id": "09e6648b",
   "metadata": {},
   "outputs": [
    {
     "name": "stdout",
     "output_type": "stream",
     "text": [
      "The shapes for image and objectspec_detail (after transforming) are:\n",
      " - image: (256, 256)\n",
      " - objectspec_detail: (5, 11)\n"
     ]
    }
   ],
   "source": [
    "print (\"The shapes for image and objectspec_detail (after transforming) are:\\n - image: {:}\\n - objectspec_detail: {:}\".format(\n",
    "    transformed_sample[\"image\"].shape,\n",
    "    transformed_sample[\"objectspec_detail\"].shape,\n",
    "))"
   ]
  },
  {
   "cell_type": "markdown",
   "id": "41b795fe",
   "metadata": {},
   "source": [
    "## **Transform the Dataset and Visualize its Input-size**"
   ]
  },
  {
   "cell_type": "code",
   "execution_count": 44,
   "id": "c9313f29",
   "metadata": {},
   "outputs": [],
   "source": [
    "transformed_dataset = ObjectsDataset(\n",
    "    csv_file=custom_annotations,\n",
    "    root_dir=root_dir,\n",
    "    transform=transforms.Compose([\n",
    "        Rescale(scale_val),\n",
    "        RandomCrop(crop_val2),\n",
    "        ToTensor()\n",
    "    ])\n",
    ")"
   ]
  },
  {
   "cell_type": "code",
   "execution_count": 45,
   "id": "f360702d",
   "metadata": {},
   "outputs": [
    {
     "name": "stdout",
     "output_type": "stream",
     "text": [
      "**************************************************************************\n",
      "Image # 0\n",
      " - image:\ttorch.Size([1, 256, 256])\n",
      " - obj-detail:\ttorch.Size([5, 11])\n",
      "**************************************************************************\n",
      "Image # 1\n",
      " - image:\ttorch.Size([1, 256, 256])\n",
      " - obj-detail:\ttorch.Size([5, 11])\n",
      "**************************************************************************\n",
      "Image # 2\n",
      " - image:\ttorch.Size([1, 256, 256])\n",
      " - obj-detail:\ttorch.Size([5, 11])\n",
      "**************************************************************************\n",
      "Image # 3\n",
      " - image:\ttorch.Size([1, 256, 256])\n",
      " - obj-detail:\ttorch.Size([5, 11])\n"
     ]
    }
   ],
   "source": [
    "figsize = (show_n_records*6, show_n_records*5)\n",
    "\n",
    "for i, sample in enumerate(transformed_dataset):\n",
    "    print (\"{:}\\nImage # {:}\".format(\n",
    "        \"**************************************************************************\",\n",
    "        i\n",
    "    ))\n",
    "    print (\" - image:\\t{:}\".format(sample[\"image\"].shape))\n",
    "    print (\" - obj-detail:\\t{:}\".format(sample[\"objectspec_detail\"].shape))\n",
    "\n",
    "    if (i == (show_n_records-1)):\n",
    "        break"
   ]
  },
  {
   "cell_type": "markdown",
   "id": "b5a102f7",
   "metadata": {},
   "source": [
    "# **Train / test / validation split and labels**"
   ]
  },
  {
   "cell_type": "code",
   "execution_count": 46,
   "id": "8082891e",
   "metadata": {},
   "outputs": [],
   "source": [
    "trainset, valset, testset = torch.utils.data.random_split(\n",
    "    transformed_dataset,\n",
    "    [\n",
    "        0.8,\n",
    "        0.1,\n",
    "        0.1,\n",
    "    ],\n",
    ")"
   ]
  },
  {
   "cell_type": "code",
   "execution_count": 47,
   "id": "d146a0cc",
   "metadata": {},
   "outputs": [],
   "source": [
    "trainloader = torch.utils.data.DataLoader(\n",
    "    trainset,\n",
    "    batch_size = batch_size,\n",
    "    shuffle = True,\n",
    "    num_workers = 2\n",
    ")"
   ]
  },
  {
   "cell_type": "code",
   "execution_count": 48,
   "id": "197e2d60",
   "metadata": {},
   "outputs": [],
   "source": [
    "testloader = torch.utils.data.DataLoader(\n",
    "    testset,\n",
    "    batch_size = batch_size,\n",
    "    shuffle = False,\n",
    "    num_workers = 2,\n",
    ")"
   ]
  },
  {
   "cell_type": "markdown",
   "id": "716562e0",
   "metadata": {},
   "source": [
    "# **Define a Multi-label Classification (?)**"
   ]
  },
  {
   "cell_type": "markdown",
   "id": "c00a9ece",
   "metadata": {},
   "source": [
    "## definition"
   ]
  },
  {
   "cell_type": "code",
   "execution_count": 49,
   "id": "e0b2a528",
   "metadata": {},
   "outputs": [],
   "source": [
    "import torch.nn as nn\n",
    "import torch.nn.functional as F"
   ]
  },
  {
   "cell_type": "code",
   "execution_count": 50,
   "id": "41e5530c",
   "metadata": {},
   "outputs": [],
   "source": [
    "do_Net = not True"
   ]
  },
  {
   "cell_type": "code",
   "execution_count": 51,
   "id": "da58f8cb",
   "metadata": {},
   "outputs": [],
   "source": [
    "class Net(nn.Module):\n",
    "    def __init__(self):\n",
    "        super().__init__()\n",
    "\n",
    "        ##### image #####\n",
    "        self.iconv1 = nn.Conv2d(\n",
    "            in_channels  = ichannels,\n",
    "            out_channels = iconv1_out_channels,\n",
    "            kernel_size  = ikernel_size_conv,\n",
    "            stride       = istride_conv,\n",
    "            padding      = \"same\",\n",
    "        )\n",
    "        self.ipool  = nn.MaxPool2d(\n",
    "            kernel_size = ikernel_size_pool,\n",
    "            stride      = istride_pool,\n",
    "        )\n",
    "\n",
    "        self.iconv2 = nn.Conv2d(\n",
    "            in_channels  = iconv1_out_channels,\n",
    "            out_channels = iconv2_out_channels,\n",
    "            kernel_size  = ikernel_size_conv,\n",
    "            stride       = istride_conv,\n",
    "            padding      = \"same\",\n",
    "        )\n",
    "\n",
    "        self.iconv3 = nn.Conv2d(\n",
    "            in_channels  = iconv2_out_channels,\n",
    "            out_channels = iconv3_out_channels,\n",
    "            kernel_size  = ikernel_size_conv,\n",
    "            stride       = istride_conv,\n",
    "            padding      = \"same\",\n",
    "        )\n",
    "\n",
    "        self.iglobalavgpool = nn.AdaptiveAvgPool2d((1, 1))\n",
    "\n",
    "        ##### objectspec #####\n",
    "        self.oconv1 = nn.Conv1d(\n",
    "            in_channels  = ochannels,\n",
    "            out_channels = oconv1_out_channels,\n",
    "            kernel_size  = okernel_size_conv,\n",
    "            stride       = ostride_conv,\n",
    "            # padding      = \"same\",\n",
    "        )\n",
    "        self.opool  = nn.MaxPool1d(\n",
    "            kernel_size = okernel_size_pool,\n",
    "            stride      = ostride_pool,\n",
    "        )\n",
    "\n",
    "        self.oconv2 = nn.Conv1d(\n",
    "            in_channels  = oconv1_out_channels,\n",
    "            out_channels = oconv2_out_channels,\n",
    "            kernel_size  = okernel_size_conv,\n",
    "            stride       = ostride_conv,\n",
    "            # padding      = \"same\",\n",
    "        )\n",
    "\n",
    "        self.oconv3 = nn.Conv1d(\n",
    "            in_channels  = oconv2_out_channels,\n",
    "            out_channels = oconv3_out_channels,\n",
    "            kernel_size  = okernel_size_conv,\n",
    "            stride       = ostride_conv,\n",
    "            # padding      = \"same\",\n",
    "        )\n",
    "\n",
    "        self.oglobalavgpool = nn.AdaptiveAvgPool1d(1)\n",
    "\n",
    "        ##### For both (image and objectspec) #####\n",
    "        self.fc1   = nn.Linear(\n",
    "            in_features  = 120,\n",
    "            out_features = ochannels,\n",
    "        )\n",
    "        self.fc2   = nn.Linear(\n",
    "            in_features  = 7680,\n",
    "            out_features = 3840,\n",
    "        )\n",
    "        self.fc3   = nn.Linear(\n",
    "            in_features  = 3840,\n",
    "            out_features = 1920,\n",
    "        )\n",
    "        self.fc4   = nn.Linear(\n",
    "            in_features  = 1920,\n",
    "            out_features = ochannels,\n",
    "        )\n",
    "        # powers of two:\n",
    "        # 16384, 8192, 4096, 2048, 1024,\n",
    "        # 512, 256, 128, 64, 32, 16, 8, 4, 2, 1\n",
    "\n",
    "    def forward(self, image, objectspec):\n",
    "\n",
    "        ##### image #####\n",
    "        print (\"Image:\") if (do_Net) else None\n",
    "        print (image.shape, \"--- image\") if (do_Net) else None\n",
    "        image = F.relu(self.iconv1(image))\n",
    "        print (image.shape, \"--- conv1\") if (do_Net) else None\n",
    "        image = self.ipool(image)\n",
    "        print (image.shape, \"--- pool\") if (do_Net) else None\n",
    "        image = F.relu(self.iconv2(image))\n",
    "        print (image.shape, \"--- conv2\") if (do_Net) else None\n",
    "        image = self.ipool(image)\n",
    "        print (image.shape, \"--- pool\") if (do_Net) else None\n",
    "        image = F.relu(self.iconv3(image))\n",
    "        print (image.shape, \"--- conv3\") if (do_Net) else None\n",
    "        image = self.ipool(image)\n",
    "        print (image.shape, \"--- pool\") if (do_Net) else None\n",
    "\n",
    "        image = self.iglobalavgpool(image)\n",
    "        print (image.shape, \"--- globalavgpool\") if (do_Net) else None\n",
    "        image = image.view(image.shape[0], iconv3_out_channels, -1)\n",
    "        print (image.shape, \"--- view\") if (do_Net) else None\n",
    "\n",
    "        ##### objectspec #####\n",
    "        print (\"\\nObject:\") if (do_Net) else None\n",
    "        print (objectspec.shape, \"--- objectspec\") if (do_Net) else None\n",
    "        objectspec = F.relu(self.oconv1(objectspec))\n",
    "        print (objectspec.shape, \"--- conv1\") if (do_Net) else None\n",
    "        objectspec = self.opool(objectspec)\n",
    "        print (objectspec.shape, \"--- pool\") if (do_Net) else None\n",
    "        objectspec = F.relu(self.oconv2(objectspec))\n",
    "        print (objectspec.shape, \"--- conv2\") if (do_Net) else None\n",
    "        objectspec = self.opool(objectspec)\n",
    "        print (objectspec.shape, \"--- pool\") if (do_Net) else None\n",
    "        objectspec = F.relu(self.oconv3(objectspec))\n",
    "        print (objectspec.shape, \"--- conv3\") if (do_Net) else None\n",
    "        objectspec = self.opool(objectspec)\n",
    "        print (objectspec.shape, \"--- pool\") if (do_Net) else None\n",
    "        objectspec = self.oglobalavgpool(objectspec)\n",
    "        print (objectspec.shape, \"--- globalavgpool\") if (do_Net) else None\n",
    "        \n",
    "        ##### For both (image and objectspec) #####\n",
    "        print (\"\\nFully connected:\") if (do_Net) else None\n",
    "        print (image.shape, \"--- image\") if (do_Net) else None\n",
    "        print (objectspec.shape, \"--- objectspec\") if (do_Net) else None\n",
    "        inputfc = torch.cat((image, objectspec), 1)\n",
    "        print (inputfc.shape, \"--- inputfc-after-concat\") if (do_Net) else None\n",
    "        inputfc = torch.squeeze(inputfc, dim=2)\n",
    "        print (inputfc.shape, \"--- inputfc-squeeze\") if (do_Net) else None\n",
    "\n",
    "        inputfc = self.fc1(inputfc)\n",
    "        print (inputfc.shape, \"--- fc1\") if (do_Net) else None\n",
    "\n",
    "        # inputfc = F.relu(self.fc2(inputfc))\n",
    "        # print (inputfc.shape, \"--- fc2\") if (do_Net) else None\n",
    "        # inputfc = F.relu(self.fc3(inputfc))\n",
    "        # print (inputfc.shape, \"--- fc3\") if (do_Net) else None\n",
    "        # inputfc = F.relu(self.fc4(inputfc))\n",
    "        # print (inputfc.shape, \"--- fc4\") if (do_Net) else None\n",
    "\n",
    "        # print (\"\") if (do_Net) else None\n",
    "\n",
    "        inputfc = F.sigmoid(inputfc)\n",
    "        print (inputfc.shape, \"--- inputfc-sigmoid\") if (do_Net) else None\n",
    "        print (\"\\n\\n\\n*******************************************************\\n\\n\\n\") if (do_Net) else None\n",
    "\n",
    "        return inputfc"
   ]
  },
  {
   "cell_type": "code",
   "execution_count": 57,
   "id": "8e072efe",
   "metadata": {},
   "outputs": [],
   "source": [
    "net = None"
   ]
  },
  {
   "cell_type": "code",
   "execution_count": 60,
   "id": "ca4849fe",
   "metadata": {},
   "outputs": [],
   "source": [
    "if (ichannels == 3 or ichannels == 1):\n",
    "    net = Net()\n",
    "    net = net.to(device)"
   ]
  },
  {
   "cell_type": "code",
   "execution_count": 61,
   "id": "17133b0d",
   "metadata": {},
   "outputs": [
    {
     "data": {
      "text/plain": [
       "<bound method Module.modules of Net(\n",
       "  (iconv1): Conv2d(1, 15, kernel_size=(3, 3), stride=(1, 1), padding=same)\n",
       "  (ipool): MaxPool2d(kernel_size=(2, 2), stride=(2, 2), padding=0, dilation=1, ceil_mode=False)\n",
       "  (iconv2): Conv2d(15, 30, kernel_size=(3, 3), stride=(1, 1), padding=same)\n",
       "  (iconv3): Conv2d(30, 60, kernel_size=(3, 3), stride=(1, 1), padding=same)\n",
       "  (iglobalavgpool): AdaptiveAvgPool2d(output_size=(1, 1))\n",
       "  (oconv1): Conv1d(5, 15, kernel_size=(1,), stride=(1,))\n",
       "  (opool): MaxPool1d(kernel_size=1, stride=1, padding=0, dilation=1, ceil_mode=False)\n",
       "  (oconv2): Conv1d(15, 30, kernel_size=(1,), stride=(1,))\n",
       "  (oconv3): Conv1d(30, 60, kernel_size=(1,), stride=(1,))\n",
       "  (oglobalavgpool): AdaptiveAvgPool1d(output_size=1)\n",
       "  (fc1): Linear(in_features=120, out_features=5, bias=True)\n",
       "  (fc2): Linear(in_features=7680, out_features=3840, bias=True)\n",
       "  (fc3): Linear(in_features=3840, out_features=1920, bias=True)\n",
       "  (fc4): Linear(in_features=1920, out_features=5, bias=True)\n",
       ")>"
      ]
     },
     "execution_count": 61,
     "metadata": {},
     "output_type": "execute_result"
    }
   ],
   "source": [
    "net.modules"
   ]
  },
  {
   "cell_type": "markdown",
   "id": "2d7b1e27",
   "metadata": {},
   "source": [
    "## criterion and optimizer"
   ]
  },
  {
   "cell_type": "code",
   "execution_count": 62,
   "id": "4e3aca06",
   "metadata": {},
   "outputs": [],
   "source": [
    "import torch.optim as optim"
   ]
  },
  {
   "cell_type": "code",
   "execution_count": 63,
   "id": "c89c51d1",
   "metadata": {},
   "outputs": [],
   "source": [
    "learning_rate = 0.000001\n",
    "momentum = 0.9"
   ]
  },
  {
   "cell_type": "code",
   "execution_count": 64,
   "id": "1c2fc590",
   "metadata": {},
   "outputs": [],
   "source": [
    "# criterion = nn.CrossEntropyLoss()\n",
    "criterion = nn.BCELoss()\n",
    "\n",
    "# optimizer = optim.Adam(net.parameters(), lr=learning_rate)\n",
    "optimizer = optim.AdamW(net.parameters(), lr=learning_rate)\n",
    "# optimizer = optim.SGD(net.parameters(), lr=learning_rate, momentum=momentum)"
   ]
  },
  {
   "cell_type": "markdown",
   "id": "5c3865cd",
   "metadata": {},
   "source": [
    "## training"
   ]
  },
  {
   "cell_type": "code",
   "execution_count": 65,
   "id": "f08328e0",
   "metadata": {},
   "outputs": [
    {
     "name": "stdout",
     "output_type": "stream",
     "text": [
      "2023-07-20 21:13:28.891621\n"
     ]
    }
   ],
   "source": [
    "train_started = datetime.now()\n",
    "print (train_started)"
   ]
  },
  {
   "cell_type": "code",
   "execution_count": 66,
   "id": "af980f2a",
   "metadata": {},
   "outputs": [],
   "source": [
    "do_Epochs           = not True\n",
    "do_Batch            = not True\n",
    "do_Batch_Final_Only = True\n",
    "\n",
    "# may change due to do_Batch (bool)\n",
    "do_Epochs = True if do_Batch else do_Epochs\n",
    "\n",
    "# may change due to do_Batch_Final_Only (bool)\n",
    "do_Epochs = True if do_Batch_Final_Only else do_Epochs\n",
    "do_Batch  = False if do_Batch_Final_Only else do_Batch"
   ]
  },
  {
   "cell_type": "code",
   "execution_count": 67,
   "id": "9249be35",
   "metadata": {
    "scrolled": false
   },
   "outputs": [
    {
     "name": "stdout",
     "output_type": "stream",
     "text": [
      "Epoch: 1 -\n",
      "- [FFF-Batch # 7] loss: 0.108\n",
      "Epoch: 2 -\n",
      "- [FFF-Batch # 7] loss: 0.107\n",
      "Epoch: 3 -\n",
      "- [FFF-Batch # 7] loss: 0.103\n",
      "Epoch: 4 -\n",
      "- [FFF-Batch # 7] loss: 0.100\n",
      "Epoch: 5 -\n",
      "- [FFF-Batch # 7] loss: 0.104\n",
      "Epoch: 6 -\n",
      "- [FFF-Batch # 7] loss: 0.105\n",
      "Epoch: 7 -\n",
      "- [FFF-Batch # 7] loss: 0.108\n",
      "Epoch: 8 -\n",
      "- [FFF-Batch # 7] loss: 0.108\n",
      "Epoch: 9 -\n",
      "- [FFF-Batch # 7] loss: 0.102\n",
      "Epoch: 10 -\n",
      "- [FFF-Batch # 7] loss: 0.104\n",
      "Epoch: 11 -\n",
      "- [FFF-Batch # 7] loss: 0.106\n",
      "Epoch: 12 -\n",
      "- [FFF-Batch # 7] loss: 0.106\n",
      "Epoch: 13 -\n",
      "- [FFF-Batch # 7] loss: 0.107\n",
      "Epoch: 14 -\n",
      "- [FFF-Batch # 7] loss: 0.104\n",
      "Epoch: 15 -\n",
      "- [FFF-Batch # 7] loss: 0.105\n",
      "Epoch: 16 -\n",
      "- [FFF-Batch # 7] loss: 0.105\n",
      "Epoch: 17 -\n",
      "- [FFF-Batch # 7] loss: 0.104\n",
      "Epoch: 18 -\n",
      "- [FFF-Batch # 7] loss: 0.101\n",
      "Epoch: 19 -\n",
      "- [FFF-Batch # 7] loss: 0.105\n",
      "Epoch: 20 -\n",
      "- [FFF-Batch # 7] loss: 0.106\n",
      "Epoch: 21 -\n",
      "- [FFF-Batch # 7] loss: 0.104\n",
      "Epoch: 22 -\n",
      "- [FFF-Batch # 7] loss: 0.106\n",
      "Epoch: 23 -\n",
      "- [FFF-Batch # 7] loss: 0.105\n",
      "Epoch: 24 -\n",
      "- [FFF-Batch # 7] loss: 0.105\n",
      "Epoch: 25 -\n",
      "- [FFF-Batch # 7] loss: 0.104\n",
      "Epoch: 26 -\n",
      "- [FFF-Batch # 7] loss: 0.106\n",
      "Epoch: 27 -\n",
      "- [FFF-Batch # 7] loss: 0.106\n"
     ]
    }
   ],
   "source": [
    "for epoch in range(epochs):  # loop over the dataset multiple times\n",
    "    print (\"Epoch: {:} -\".format(epoch+1)) if (do_Epochs) else None\n",
    "    running_loss = 0.0\n",
    "    for i, data in enumerate(trainloader, 0):\n",
    "        image, objectspec_detail = data[\"image\"], data[\"objectspec_detail\"]\n",
    "        objectspec = objectspec_detail[:, :, objectspec_input_startindex:objectspec_output_endindex].float()\n",
    "        labels = torch.squeeze(objectspec_detail[:, :, objectspec_output_startindex:objectspec_output_endindex].float(), dim=2)\n",
    "        inputs = image.float()\n",
    "\n",
    "        # zero the parameter gradients\n",
    "        optimizer.zero_grad()\n",
    "\n",
    "        # forward + backward + optimize\n",
    "        outputs = net(inputs.to(device), objectspec.to(device))\n",
    "        loss = criterion(outputs, labels.to(device))\n",
    "        loss.backward()\n",
    "        optimizer.step()\n",
    "\n",
    "        # print statistics\n",
    "        running_loss += loss.item()\n",
    "        print(\"- [Batch # {:}] loss: {:.3f}\".format(\n",
    "            i + 1, running_loss / 2000\n",
    "        )) if (do_Batch) else None\n",
    "    print(\"- [FFF-Batch # {:}] loss: {:.3f}\".format(\n",
    "        i + 1, running_loss / 2000\n",
    "    )) if (do_Batch_Final_Only) else None"
   ]
  },
  {
   "cell_type": "code",
   "execution_count": 88,
   "id": "693f13e8",
   "metadata": {},
   "outputs": [
    {
     "data": {
      "text/plain": [
       "torch.Size([23, 1, 256, 256])"
      ]
     },
     "execution_count": 88,
     "metadata": {},
     "output_type": "execute_result"
    }
   ],
   "source": [
    "image.shape"
   ]
  },
  {
   "cell_type": "code",
   "execution_count": 89,
   "id": "e2247488",
   "metadata": {},
   "outputs": [
    {
     "data": {
      "text/plain": [
       "torch.Size([98, 5, 11])"
      ]
     },
     "execution_count": 89,
     "metadata": {},
     "output_type": "execute_result"
    }
   ],
   "source": [
    "objectspec_detail.shape"
   ]
  },
  {
   "cell_type": "code",
   "execution_count": 90,
   "id": "9573ebd8",
   "metadata": {},
   "outputs": [
    {
     "data": {
      "text/plain": [
       "torch.Size([23, 5])"
      ]
     },
     "execution_count": 90,
     "metadata": {},
     "output_type": "execute_result"
    }
   ],
   "source": [
    "labels.shape"
   ]
  },
  {
   "cell_type": "code",
   "execution_count": null,
   "id": "cb7e54cf",
   "metadata": {},
   "outputs": [],
   "source": []
  },
  {
   "cell_type": "code",
   "execution_count": null,
   "id": "abb31f01",
   "metadata": {},
   "outputs": [],
   "source": []
  },
  {
   "cell_type": "code",
   "execution_count": 68,
   "id": "71d2402d",
   "metadata": {},
   "outputs": [
    {
     "name": "stdout",
     "output_type": "stream",
     "text": [
      "Finished Training:\ttotal '26' epochs.\n"
     ]
    }
   ],
   "source": [
    "print(\"Finished Training:\\ttotal '{:}' epochs.\".format(epoch))"
   ]
  },
  {
   "cell_type": "code",
   "execution_count": 69,
   "id": "e2b072dc",
   "metadata": {},
   "outputs": [
    {
     "name": "stdout",
     "output_type": "stream",
     "text": [
      "2023-07-20 21:14:22.014974\n"
     ]
    }
   ],
   "source": [
    "train_ended = datetime.now()\n",
    "print (train_ended)"
   ]
  },
  {
   "cell_type": "code",
   "execution_count": 70,
   "id": "365668f0",
   "metadata": {},
   "outputs": [
    {
     "name": "stdout",
     "output_type": "stream",
     "text": [
      "difference in:\n",
      " - seconds:\t53\n",
      " - hours:\t0.01\n",
      " - in minutes:\t0.89\n",
      "It took 0 Hour(s), 0 Minute(s), and 53 Seconds to train this model!\n"
     ]
    }
   ],
   "source": [
    "print (\"difference in:\")\n",
    "\n",
    "secs = (train_ended-train_started).total_seconds()\n",
    "print(\" - seconds:\\t{:.0f}\".format(secs))\n",
    "\n",
    "hours = secs / (60 * 60)\n",
    "print(\" - hours:\\t{:.2f}\".format(hours))\n",
    "\n",
    "mins = secs / 60\n",
    "print(\" - in minutes:\\t{:.2f}\".format(mins))\n",
    "\n",
    "hours_f = int(hours)\n",
    "mins_f = int(mins-hours_f * 60)\n",
    "secs_f = int(secs - ((hours_f*60*60) + (mins_f*60)))\n",
    "\n",
    "print (\"It took {:} Hour(s), {:} Minute(s), and {:} Seconds to train this model!\".format(\n",
    "    hours_f, mins_f, secs_f,\n",
    "))"
   ]
  },
  {
   "cell_type": "markdown",
   "id": "019111a5",
   "metadata": {},
   "source": [
    "## save the model"
   ]
  },
  {
   "cell_type": "code",
   "execution_count": 71,
   "id": "6d784312",
   "metadata": {},
   "outputs": [],
   "source": [
    "model_out_file_prefix = train_ended.strftime(\"%Y-%m-%d %H-%M\")"
   ]
  },
  {
   "cell_type": "code",
   "execution_count": 72,
   "id": "3a9bd2cb",
   "metadata": {},
   "outputs": [],
   "source": [
    "model_out_file = model_out_path + model_out_file_prefix + model_out_file_postfix"
   ]
  },
  {
   "cell_type": "code",
   "execution_count": 73,
   "id": "5526abfa",
   "metadata": {},
   "outputs": [
    {
     "name": "stdout",
     "output_type": "stream",
     "text": [
      "Going to save the model here: '../models/trained_on_images_depths/2023-07-20 21-14-primenet.pth'\n"
     ]
    }
   ],
   "source": [
    "print (\"Going to save the model here: '{:}'\".format(model_out_file))"
   ]
  },
  {
   "cell_type": "code",
   "execution_count": 74,
   "id": "5291eeac",
   "metadata": {},
   "outputs": [],
   "source": [
    "torch.save(net.state_dict(), model_out_file)"
   ]
  },
  {
   "cell_type": "markdown",
   "id": "341c5459",
   "metadata": {},
   "source": [
    "## evaluation"
   ]
  },
  {
   "cell_type": "code",
   "execution_count": 217,
   "id": "da715b30",
   "metadata": {},
   "outputs": [
    {
     "data": {
      "text/plain": [
       "Net(\n",
       "  (iconv1): Conv2d(1, 15, kernel_size=(3, 3), stride=(1, 1), padding=same)\n",
       "  (ipool): MaxPool2d(kernel_size=(2, 2), stride=(2, 2), padding=0, dilation=1, ceil_mode=False)\n",
       "  (iconv2): Conv2d(15, 30, kernel_size=(3, 3), stride=(1, 1), padding=same)\n",
       "  (iconv3): Conv2d(30, 60, kernel_size=(3, 3), stride=(1, 1), padding=same)\n",
       "  (iglobalavgpool): AdaptiveAvgPool2d(output_size=(1, 1))\n",
       "  (oconv1): Conv1d(5, 15, kernel_size=(1,), stride=(1,))\n",
       "  (opool): MaxPool1d(kernel_size=1, stride=1, padding=0, dilation=1, ceil_mode=False)\n",
       "  (oconv2): Conv1d(15, 30, kernel_size=(1,), stride=(1,))\n",
       "  (oconv3): Conv1d(30, 60, kernel_size=(1,), stride=(1,))\n",
       "  (oglobalavgpool): AdaptiveAvgPool1d(output_size=1)\n",
       "  (fc1): Linear(in_features=120, out_features=5, bias=True)\n",
       "  (fc2): Linear(in_features=7680, out_features=3840, bias=True)\n",
       "  (fc3): Linear(in_features=3840, out_features=1920, bias=True)\n",
       "  (fc4): Linear(in_features=1920, out_features=5, bias=True)\n",
       ")"
      ]
     },
     "execution_count": 217,
     "metadata": {},
     "output_type": "execute_result"
    }
   ],
   "source": [
    "net.eval()"
   ]
  },
  {
   "cell_type": "markdown",
   "id": "0508eb00",
   "metadata": {},
   "source": [
    "### show a sample of evaluation"
   ]
  },
  {
   "cell_type": "code",
   "execution_count": 180,
   "id": "5c6f3ae0",
   "metadata": {},
   "outputs": [],
   "source": [
    "dataiter = iter(testloader)\n",
    "samples = next(dataiter)"
   ]
  },
  {
   "cell_type": "code",
   "execution_count": 181,
   "id": "d61e8322",
   "metadata": {},
   "outputs": [],
   "source": [
    "test_images, objectspec_detail = samples[\"image\"].float(), samples[\"objectspec_detail\"]\n",
    "test_objectspec_detail = objectspec_detail[:, :, objectspec_input_startindex:objectspec_input_endindex].float()\n",
    "test_labels = objectspec_detail[:, :, objectspec_output_startindex:objectspec_output_endindex]"
   ]
  },
  {
   "cell_type": "code",
   "execution_count": 182,
   "id": "13f9f668",
   "metadata": {
    "scrolled": false
   },
   "outputs": [
    {
     "name": "stdout",
     "output_type": "stream",
     "text": [
      "Classifications: torch.Size([98, 5])\n",
      "Expections: torch.Size([98, 5, 1])\n"
     ]
    }
   ],
   "source": [
    "with torch.no_grad():\n",
    "    classifications = net(test_images.to(device), test_objectspec_detail.to(device))\n",
    "    print (\"Classifications: {:}\".format(classifications.shape))\n",
    "    print (\"Expections: {:}\".format(test_labels.shape))"
   ]
  },
  {
   "cell_type": "code",
   "execution_count": 183,
   "id": "c4a1441e",
   "metadata": {},
   "outputs": [
    {
     "name": "stdout",
     "output_type": "stream",
     "text": [
      "testing sample '77'\n"
     ]
    }
   ],
   "source": [
    "# random index from samples # if you want to test a specific example replace the randomness.\n",
    "test_comparison_index = random.randint(0, test_labels.shape[0]-1)\n",
    "print (\"testing sample '{:}'\".format(test_comparison_index))"
   ]
  },
  {
   "cell_type": "code",
   "execution_count": 184,
   "id": "9501d5c8",
   "metadata": {},
   "outputs": [
    {
     "name": "stdout",
     "output_type": "stream",
     "text": [
      "classified :  0.0000000000000000000, 1.0000000000000000000, 0.0000000000000000000, 1.0000000000000000000, 0.0000000000000000000\n",
      "expected   :  1.0000000000000000000, 1.0000000000000000000, 0.0000000000000000000, 0.0000000000000000000, 0.0000000000000000000\n",
      "error      =  1.0000000000000000000, 0.0000000000000000000, 0.0000000000000000000, 1.0000000000000000000, 0.0000000000000000000\n",
      "total err: 2.0\n",
      "avrge err: 0.4\n"
     ]
    }
   ],
   "source": [
    "precn = \".19f\"\n",
    "\n",
    "cls = [v.item() for v in classifications[test_comparison_index]]\n",
    "exp = [v.item() for v in test_labels[test_comparison_index]]\n",
    "err = [abs(cl - ex) for cl, ex in zip(cls, exp)]\n",
    "err_ttl = sum(err)\n",
    "err_avg = err_ttl/len(err)\n",
    "\n",
    "print (\"classified : \", \", \".join([format(i, precn) for i in cls]))\n",
    "print (\"expected   : \", \", \".join([format(i, precn) for i in exp]))\n",
    "print (\"error      = \", \", \".join([format(i, precn) for i in err]))\n",
    "print (\"total err: {:}\".format(err_ttl))\n",
    "print (\"avrge err: {:}\".format(err_avg))"
   ]
  },
  {
   "cell_type": "code",
   "execution_count": 185,
   "id": "91ce7322",
   "metadata": {},
   "outputs": [
    {
     "data": {
      "text/plain": [
       "[0.0, 1.0, 0.0, 1.0, 0.0]"
      ]
     },
     "execution_count": 185,
     "metadata": {},
     "output_type": "execute_result"
    }
   ],
   "source": [
    "[v.item() for v in classifications[test_comparison_index]]"
   ]
  },
  {
   "cell_type": "code",
   "execution_count": 186,
   "id": "9ead8939",
   "metadata": {},
   "outputs": [
    {
     "data": {
      "text/plain": [
       "[1.0, 1.0, 0.0, 0.0, 0.0]"
      ]
     },
     "execution_count": 186,
     "metadata": {},
     "output_type": "execute_result"
    }
   ],
   "source": [
    "[v.item() for v in test_labels[test_comparison_index]]"
   ]
  },
  {
   "cell_type": "markdown",
   "id": "fa6a0945",
   "metadata": {},
   "source": [
    "### overall evaluation (to be done)"
   ]
  },
  {
   "cell_type": "code",
   "execution_count": 218,
   "id": "08877a29",
   "metadata": {},
   "outputs": [],
   "source": [
    "# Update the below to fetch data in loop and evaluate\n",
    "# dataiter = iter(testloader)\n",
    "# samples = next(dataiter)"
   ]
  },
  {
   "cell_type": "code",
   "execution_count": null,
   "id": "015b143a",
   "metadata": {},
   "outputs": [],
   "source": []
  },
  {
   "cell_type": "code",
   "execution_count": null,
   "id": "af6e4481",
   "metadata": {},
   "outputs": [],
   "source": []
  },
  {
   "cell_type": "code",
   "execution_count": null,
   "id": "d3c8f418",
   "metadata": {},
   "outputs": [],
   "source": []
  },
  {
   "cell_type": "markdown",
   "id": "3fab4e7e",
   "metadata": {},
   "source": [
    "## load the model, evaluate it, and test it"
   ]
  },
  {
   "cell_type": "code",
   "execution_count": 219,
   "id": "1646cef9",
   "metadata": {},
   "outputs": [],
   "source": [
    "load_manual = True\n",
    "\n",
    "net444 = None"
   ]
  },
  {
   "cell_type": "code",
   "execution_count": 220,
   "id": "bce0a184",
   "metadata": {},
   "outputs": [],
   "source": [
    "if load_manual:\n",
    "    model_out_load = \"{:}{:}\".format(\n",
    "        \"../models/trained_on_images_depths/\",\n",
    "        \"2023-07-20 21-14-primenet.pth\",\n",
    "    )\n",
    "else:\n",
    "    model_out_load = model_out_file"
   ]
  },
  {
   "cell_type": "code",
   "execution_count": 221,
   "id": "2f04a05b",
   "metadata": {},
   "outputs": [],
   "source": [
    "net444 = Net().to(device)"
   ]
  },
  {
   "cell_type": "code",
   "execution_count": 222,
   "id": "eb03574c",
   "metadata": {},
   "outputs": [
    {
     "data": {
      "text/plain": [
       "<All keys matched successfully>"
      ]
     },
     "execution_count": 222,
     "metadata": {},
     "output_type": "execute_result"
    }
   ],
   "source": [
    "net444.load_state_dict(torch.load(model_out_load))"
   ]
  },
  {
   "cell_type": "code",
   "execution_count": 223,
   "id": "3309405e",
   "metadata": {},
   "outputs": [
    {
     "data": {
      "text/plain": [
       "Net(\n",
       "  (iconv1): Conv2d(1, 15, kernel_size=(3, 3), stride=(1, 1), padding=same)\n",
       "  (ipool): MaxPool2d(kernel_size=(2, 2), stride=(2, 2), padding=0, dilation=1, ceil_mode=False)\n",
       "  (iconv2): Conv2d(15, 30, kernel_size=(3, 3), stride=(1, 1), padding=same)\n",
       "  (iconv3): Conv2d(30, 60, kernel_size=(3, 3), stride=(1, 1), padding=same)\n",
       "  (iglobalavgpool): AdaptiveAvgPool2d(output_size=(1, 1))\n",
       "  (oconv1): Conv1d(5, 15, kernel_size=(1,), stride=(1,))\n",
       "  (opool): MaxPool1d(kernel_size=1, stride=1, padding=0, dilation=1, ceil_mode=False)\n",
       "  (oconv2): Conv1d(15, 30, kernel_size=(1,), stride=(1,))\n",
       "  (oconv3): Conv1d(30, 60, kernel_size=(1,), stride=(1,))\n",
       "  (oglobalavgpool): AdaptiveAvgPool1d(output_size=1)\n",
       "  (fc1): Linear(in_features=120, out_features=5, bias=True)\n",
       "  (fc2): Linear(in_features=7680, out_features=3840, bias=True)\n",
       "  (fc3): Linear(in_features=3840, out_features=1920, bias=True)\n",
       "  (fc4): Linear(in_features=1920, out_features=5, bias=True)\n",
       ")"
      ]
     },
     "execution_count": 223,
     "metadata": {},
     "output_type": "execute_result"
    }
   ],
   "source": [
    "net444"
   ]
  },
  {
   "cell_type": "code",
   "execution_count": 224,
   "id": "d2d77de5",
   "metadata": {},
   "outputs": [
    {
     "data": {
      "text/plain": [
       "Net(\n",
       "  (iconv1): Conv2d(1, 15, kernel_size=(3, 3), stride=(1, 1), padding=same)\n",
       "  (ipool): MaxPool2d(kernel_size=(2, 2), stride=(2, 2), padding=0, dilation=1, ceil_mode=False)\n",
       "  (iconv2): Conv2d(15, 30, kernel_size=(3, 3), stride=(1, 1), padding=same)\n",
       "  (iconv3): Conv2d(30, 60, kernel_size=(3, 3), stride=(1, 1), padding=same)\n",
       "  (iglobalavgpool): AdaptiveAvgPool2d(output_size=(1, 1))\n",
       "  (oconv1): Conv1d(5, 15, kernel_size=(1,), stride=(1,))\n",
       "  (opool): MaxPool1d(kernel_size=1, stride=1, padding=0, dilation=1, ceil_mode=False)\n",
       "  (oconv2): Conv1d(15, 30, kernel_size=(1,), stride=(1,))\n",
       "  (oconv3): Conv1d(30, 60, kernel_size=(1,), stride=(1,))\n",
       "  (oglobalavgpool): AdaptiveAvgPool1d(output_size=1)\n",
       "  (fc1): Linear(in_features=120, out_features=5, bias=True)\n",
       "  (fc2): Linear(in_features=7680, out_features=3840, bias=True)\n",
       "  (fc3): Linear(in_features=3840, out_features=1920, bias=True)\n",
       "  (fc4): Linear(in_features=1920, out_features=5, bias=True)\n",
       ")"
      ]
     },
     "execution_count": 224,
     "metadata": {},
     "output_type": "execute_result"
    }
   ],
   "source": [
    "net444.eval()"
   ]
  },
  {
   "cell_type": "code",
   "execution_count": 225,
   "id": "fb9103cc",
   "metadata": {},
   "outputs": [],
   "source": [
    "dataiter = iter(testloader)\n",
    "samples = next(dataiter)"
   ]
  },
  {
   "cell_type": "code",
   "execution_count": 226,
   "id": "4bee24b0",
   "metadata": {},
   "outputs": [],
   "source": [
    "test_images, objectspec_detail = samples[\"image\"].float(), samples[\"objectspec_detail\"]\n",
    "test_objectspec_detail = objectspec_detail[:, :, objectspec_input_startindex:objectspec_input_endindex].float()\n",
    "test_labels = objectspec_detail[:, :, objectspec_output_startindex:objectspec_output_endindex]"
   ]
  },
  {
   "cell_type": "code",
   "execution_count": 227,
   "id": "b91a675b",
   "metadata": {},
   "outputs": [
    {
     "name": "stdout",
     "output_type": "stream",
     "text": [
      "Classifications: torch.Size([98, 5])\n",
      "Expections: torch.Size([98, 5, 1])\n"
     ]
    }
   ],
   "source": [
    "with torch.no_grad():\n",
    "    classifications = net444(test_images.to(device), test_objectspec_detail.to(device))\n",
    "    print (\"Classifications: {:}\".format(classifications.shape))\n",
    "    print (\"Expections: {:}\".format(test_labels.shape))"
   ]
  },
  {
   "cell_type": "code",
   "execution_count": 228,
   "id": "a062ea59",
   "metadata": {},
   "outputs": [
    {
     "name": "stdout",
     "output_type": "stream",
     "text": [
      "testing sample '81'\n"
     ]
    }
   ],
   "source": [
    "# random index from samples # if you want to test a specific example replace the randomness.\n",
    "test_comparison_index = random.randint(0, test_labels.shape[0]-1)\n",
    "print (\"testing sample '{:}'\".format(test_comparison_index))"
   ]
  },
  {
   "cell_type": "code",
   "execution_count": 229,
   "id": "8e89af44",
   "metadata": {},
   "outputs": [
    {
     "name": "stdout",
     "output_type": "stream",
     "text": [
      "classified :  0.0000000000000000000, 0.0000001495361061643, 0.9897444844245910645, 0.9996887445449829102, 0.0000000503887811476\n",
      "expected   :  1.0000000000000000000, 1.0000000000000000000, 1.0000000000000000000, 1.0000000000000000000, 1.0000000000000000000\n",
      "error      =  1.0000000000000000000, 0.9999998504638938357, 0.0102555155754089355, 0.0003112554550170898, 0.9999999496112188524\n",
      "total err: 3.0105665711055387\n",
      "avrge err: 0.6021133142211077\n"
     ]
    }
   ],
   "source": [
    "precn = \".19f\"\n",
    "\n",
    "cls = [v.item() for v in classifications[test_comparison_index]]\n",
    "exp = [v.item() for v in test_labels[test_comparison_index]]\n",
    "err = [abs(cl - ex) for cl, ex in zip(cls, exp)]\n",
    "err_ttl = sum(err)\n",
    "err_avg = err_ttl/len(err)\n",
    "\n",
    "print (\"classified : \", \", \".join([format(i, precn) for i in cls]))\n",
    "print (\"expected   : \", \", \".join([format(i, precn) for i in exp]))\n",
    "print (\"error      = \", \", \".join([format(i, precn) for i in err]))\n",
    "print (\"total err: {:}\".format(err_ttl))\n",
    "print (\"avrge err: {:}\".format(err_avg))"
   ]
  },
  {
   "cell_type": "code",
   "execution_count": 230,
   "id": "a0d4ca32",
   "metadata": {},
   "outputs": [
    {
     "data": {
      "text/plain": [
       "[1.8076464365928056e-30,\n",
       " 1.4953610616430524e-07,\n",
       " 0.9897444844245911,\n",
       " 0.9996887445449829,\n",
       " 5.038878114760337e-08]"
      ]
     },
     "execution_count": 230,
     "metadata": {},
     "output_type": "execute_result"
    }
   ],
   "source": [
    "[v.item() for v in classifications[test_comparison_index]]"
   ]
  },
  {
   "cell_type": "code",
   "execution_count": 231,
   "id": "64da621f",
   "metadata": {},
   "outputs": [
    {
     "data": {
      "text/plain": [
       "[1.0, 1.0, 1.0, 1.0, 1.0]"
      ]
     },
     "execution_count": 231,
     "metadata": {},
     "output_type": "execute_result"
    }
   ],
   "source": [
    "[v.item() for v in test_labels[test_comparison_index]]"
   ]
  },
  {
   "cell_type": "code",
   "execution_count": null,
   "id": "fc6f45f6",
   "metadata": {},
   "outputs": [],
   "source": []
  },
  {
   "cell_type": "code",
   "execution_count": null,
   "id": "e941e677",
   "metadata": {},
   "outputs": [],
   "source": []
  },
  {
   "cell_type": "code",
   "execution_count": null,
   "id": "33ea9a48",
   "metadata": {},
   "outputs": [],
   "source": []
  },
  {
   "cell_type": "markdown",
   "id": "7b6bb148",
   "metadata": {},
   "source": [
    "# Xtra(s)"
   ]
  },
  {
   "cell_type": "code",
   "execution_count": null,
   "id": "72daacc5",
   "metadata": {},
   "outputs": [],
   "source": []
  },
  {
   "cell_type": "code",
   "execution_count": null,
   "id": "b4a04ad8",
   "metadata": {},
   "outputs": [],
   "source": []
  },
  {
   "cell_type": "code",
   "execution_count": null,
   "id": "f8fbe242",
   "metadata": {},
   "outputs": [],
   "source": []
  }
 ],
 "metadata": {
  "kernelspec": {
   "display_name": "Python 3 (ipykernel)",
   "language": "python",
   "name": "python3"
  },
  "language_info": {
   "codemirror_mode": {
    "name": "ipython",
    "version": 3
   },
   "file_extension": ".py",
   "mimetype": "text/x-python",
   "name": "python",
   "nbconvert_exporter": "python",
   "pygments_lexer": "ipython3",
   "version": "3.10.0"
  }
 },
 "nbformat": 4,
 "nbformat_minor": 5
}
